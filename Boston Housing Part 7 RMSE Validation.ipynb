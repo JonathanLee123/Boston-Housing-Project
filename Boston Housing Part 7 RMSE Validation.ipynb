{
 "cells": [
  {
   "cell_type": "code",
   "execution_count": 1,
   "metadata": {},
   "outputs": [],
   "source": [
    "import pandas as pd  \n",
    "import numpy as np  \n",
    "import matplotlib.pyplot as plt  \n",
    "import seaborn as seabornInstance \n",
    "from sklearn.model_selection import train_test_split \n",
    "from sklearn.linear_model import LinearRegression\n",
    "from sklearn import metrics\n",
    "%matplotlib inline"
   ]
  },
  {
   "cell_type": "code",
   "execution_count": 2,
   "metadata": {},
   "outputs": [],
   "source": [
    "data = pd.read_csv(r'C:\\Users\\Zaid\\Desktop\\ADS1001\\housing.csv')\n",
    "data=data.dropna()\n",
    "data = pd.DataFrame(data)\n",
    "data.rename(columns={'MEDV':'PRICE'}, inplace=True)\n",
    "data.head()\n",
    "data = data.drop(['CHAS','B'], axis = 1)\n"
   ]
  },
  {
   "cell_type": "code",
   "execution_count": 3,
   "metadata": {},
   "outputs": [],
   "source": [
    "\n",
    "X = data[['CRIM','ZN', 'INDUS', 'NOX', 'RM', 'AGE', 'DIS', 'RAD', 'TAX', 'PTRATIO','LSTAT']]\n",
    "y = data['PRICE']\n"
   ]
  },
  {
   "cell_type": "code",
   "execution_count": 4,
   "metadata": {},
   "outputs": [
    {
     "data": {
      "text/plain": [
       "LinearRegression(copy_X=True, fit_intercept=True, n_jobs=None, normalize=False)"
      ]
     },
     "execution_count": 4,
     "metadata": {},
     "output_type": "execute_result"
    }
   ],
   "source": [
    "X_train, X_test, y_train, y_test = train_test_split(X, y, test_size=0.25, random_state=1)\n",
    "regressor = LinearRegression()  \n",
    "regressor.fit(X_train, y_train)"
   ]
  },
  {
   "cell_type": "code",
   "execution_count": 5,
   "metadata": {},
   "outputs": [
    {
     "name": "stdout",
     "output_type": "stream",
     "text": [
      "48.61890758027898\n"
     ]
    }
   ],
   "source": [
    "print(regressor.intercept_)"
   ]
  },
  {
   "cell_type": "code",
   "execution_count": 6,
   "metadata": {},
   "outputs": [
    {
     "name": "stdout",
     "output_type": "stream",
     "text": [
      "[-1.27998063e-01  5.86185394e-02  4.46284109e-02 -2.09842446e+01\n",
      "  2.86918042e+00  9.24396091e-03 -1.50910990e+00  3.17162992e-01\n",
      " -1.25201445e-02 -1.00525266e+00 -5.81493177e-01]\n"
     ]
    },
    {
     "data": {
      "text/html": [
       "<div>\n",
       "<style scoped>\n",
       "    .dataframe tbody tr th:only-of-type {\n",
       "        vertical-align: middle;\n",
       "    }\n",
       "\n",
       "    .dataframe tbody tr th {\n",
       "        vertical-align: top;\n",
       "    }\n",
       "\n",
       "    .dataframe thead th {\n",
       "        text-align: right;\n",
       "    }\n",
       "</style>\n",
       "<table border=\"1\" class=\"dataframe\">\n",
       "  <thead>\n",
       "    <tr style=\"text-align: right;\">\n",
       "      <th></th>\n",
       "      <th>Coefficient</th>\n",
       "    </tr>\n",
       "  </thead>\n",
       "  <tbody>\n",
       "    <tr>\n",
       "      <th>CRIM</th>\n",
       "      <td>-0.127998</td>\n",
       "    </tr>\n",
       "    <tr>\n",
       "      <th>ZN</th>\n",
       "      <td>0.058619</td>\n",
       "    </tr>\n",
       "    <tr>\n",
       "      <th>INDUS</th>\n",
       "      <td>0.044628</td>\n",
       "    </tr>\n",
       "    <tr>\n",
       "      <th>NOX</th>\n",
       "      <td>-20.984245</td>\n",
       "    </tr>\n",
       "    <tr>\n",
       "      <th>RM</th>\n",
       "      <td>2.869180</td>\n",
       "    </tr>\n",
       "    <tr>\n",
       "      <th>AGE</th>\n",
       "      <td>0.009244</td>\n",
       "    </tr>\n",
       "    <tr>\n",
       "      <th>DIS</th>\n",
       "      <td>-1.509110</td>\n",
       "    </tr>\n",
       "    <tr>\n",
       "      <th>RAD</th>\n",
       "      <td>0.317163</td>\n",
       "    </tr>\n",
       "    <tr>\n",
       "      <th>TAX</th>\n",
       "      <td>-0.012520</td>\n",
       "    </tr>\n",
       "    <tr>\n",
       "      <th>PTRATIO</th>\n",
       "      <td>-1.005253</td>\n",
       "    </tr>\n",
       "    <tr>\n",
       "      <th>LSTAT</th>\n",
       "      <td>-0.581493</td>\n",
       "    </tr>\n",
       "  </tbody>\n",
       "</table>\n",
       "</div>"
      ],
      "text/plain": [
       "         Coefficient\n",
       "CRIM       -0.127998\n",
       "ZN          0.058619\n",
       "INDUS       0.044628\n",
       "NOX       -20.984245\n",
       "RM          2.869180\n",
       "AGE         0.009244\n",
       "DIS        -1.509110\n",
       "RAD         0.317163\n",
       "TAX        -0.012520\n",
       "PTRATIO    -1.005253\n",
       "LSTAT      -0.581493"
      ]
     },
     "execution_count": 6,
     "metadata": {},
     "output_type": "execute_result"
    }
   ],
   "source": [
    "print(regressor.coef_)\n",
    "coeff_df = pd.DataFrame(regressor.coef_, X.columns, columns=['Coefficient'])  \n",
    "coeff_df"
   ]
  },
  {
   "cell_type": "code",
   "execution_count": 7,
   "metadata": {},
   "outputs": [],
   "source": [
    "y_pred = regressor.predict(X_test)\n",
    "df = pd.DataFrame({'Actual': y_test, 'Predicted': y_pred})\n",
    "df1 = df.head(25)"
   ]
  },
  {
   "cell_type": "code",
   "execution_count": 8,
   "metadata": {},
   "outputs": [
    {
     "data": {
      "image/png": "[encoded data removed]",
      "text/plain": [
       "<Figure size 720x576 with 1 Axes>"
      ]
     },
     "metadata": {
      "needs_background": "light"
     },
     "output_type": "display_data"
    }
   ],
   "source": [
    "df1.plot(kind='bar',figsize=(10,8))\n",
    "plt.grid(which='major', linestyle='-', linewidth='0.5', color='green')\n",
    "plt.grid(which='minor', linestyle=':', linewidth='0.5', color='black')\n",
    "plt.show()"
   ]
  },
  {
   "cell_type": "code",
   "execution_count": 9,
   "metadata": {},
   "outputs": [
    {
     "name": "stdout",
     "output_type": "stream",
     "text": [
      "Mean Absolute Error: 3.714535868415684\n",
      "Mean Squared Error: 23.52701634550846\n",
      "Root Mean Squared Error: 4.850465580282831\n"
     ]
    }
   ],
   "source": [
    "print('Mean Absolute Error:', metrics.mean_absolute_error(y_test, y_pred))  \n",
    "print('Mean Squared Error:', metrics.mean_squared_error(y_test, y_pred))  \n",
    "print('Root Mean Squared Error:', np.sqrt(metrics.mean_squared_error(y_test, y_pred)))\n"
   ]
  },
  {
   "cell_type": "code",
   "execution_count": 10,
   "metadata": {},
   "outputs": [],
   "source": [
    "from sklearn.metrics import mean_squared_error\n",
    "from math import sqrt"
   ]
  },
  {
   "cell_type": "code",
   "execution_count": 11,
   "metadata": {},
   "outputs": [],
   "source": [
    "\n",
    "rms = sqrt(mean_squared_error(y_test, y_pred))"
   ]
  },
  {
   "cell_type": "code",
   "execution_count": 12,
   "metadata": {},
   "outputs": [
    {
     "data": {
      "text/plain": [
       "4.850465580282831"
      ]
     },
     "execution_count": 12,
     "metadata": {},
     "output_type": "execute_result"
    }
   ],
   "source": [
    "rms"
   ]
  },
  {
   "cell_type": "code",
   "execution_count": 43,
   "metadata": {},
   "outputs": [
    {
     "data": {
      "text/plain": [
       "array([ -5.3493664 ,  -4.35797255,  -1.33608534,  -1.65625373,\n",
       "        -0.70207041,  -3.15765688,  -1.78367584,  -1.78200645,\n",
       "        -2.97686217,  -3.50679975,  -1.3327867 ,  -5.82128109,\n",
       "        -2.89122578,  -1.70103127,  -2.14477936,  -2.11522187,\n",
       "        -4.60365737,  -5.53235033,  -4.71847675,  -2.15125847,\n",
       "        -1.80625339,  -3.99190981,  -2.39635037,  -2.32077648,\n",
       "        -0.80232622,  -2.02296153,  -1.43363934,  -6.12971214,\n",
       "        -5.2983632 ,  -3.20141287,  -5.03441392, -10.11269113,\n",
       "        -6.87974088,  -4.35221507,  -3.82661011,  -5.01943442,\n",
       "        -7.05848321,  -4.59414777,  -3.1313985 ,  -5.58845963,\n",
       "        -3.90305371,  -7.02551633,  -2.80979799,  -5.58474483,\n",
       "        -5.16816086,  -5.34530256,  -4.34361053,  -3.5726907 ,\n",
       "        -2.73239066,  -6.8609268 ,  -4.78746839,  -5.279481  ,\n",
       "        -4.73413261,  -2.71942571,  -2.88587895,  -5.64492602,\n",
       "        -4.07855456,  -2.76827032,  -4.59850742,  -3.76517943,\n",
       "        -4.37152131,  -4.22794488,  -1.0440426 ,  -1.56076372,\n",
       "        -1.97357657,  -2.38178412,  -2.02083954,  -3.42197345,\n",
       "        -3.22499962,  -4.65363981,  -3.20180207,  -9.22201538,\n",
       "       -20.7285876 , -19.28910977,  -4.37245583,  -3.99665508,\n",
       "        -3.90456975,  -5.31957421,  -5.24520501,  -5.49381577,\n",
       "        -5.5507758 ,  -8.95713898,  -5.7593421 ,  -4.06418843,\n",
       "        -6.6299785 ,  -6.04519557,  -3.72075503,  -1.53628593,\n",
       "        -4.56035013,  -3.78946489,  -2.74676394,  -1.72540244,\n",
       "        -2.16757662,  -3.0793727 ,  -2.37902948,  -2.23509641,\n",
       "        -3.14229133,  -4.46778694,  -3.18039043,  -6.04440931])"
      ]
     },
     "execution_count": 43,
     "metadata": {},
     "output_type": "execute_result"
    }
   ],
   "source": [
    "# Now lets cross validate the data\n",
    "# cross validate means to test/train different portions of the data everytime \n",
    "# cv = a number which controls the amount of times we split the data/ higher = better but not always\n",
    "# explanation of cross validation in google docs\n",
    "from sklearn.model_selection import cross_val_score\n",
    "cross_val_score(regressor, X, y, cv=100,  scoring='neg_root_mean_squared_error')\n",
    "\n",
    "# The actual MSE of each cross validation/trial is simply the positive version of the number we're getting."
   ]
  },
  {
   "cell_type": "code",
   "execution_count": 42,
   "metadata": {},
   "outputs": [
    {
     "data": {
      "text/plain": [
       "4.246666088812031"
      ]
     },
     "execution_count": 42,
     "metadata": {},
     "output_type": "execute_result"
    }
   ],
   "source": [
    "\n",
    "score = cross_val_score(regressor, X, y, cv=100, scoring='neg_root_mean_squared_error')\n",
    "abs(np.mean(score))\n",
    "\n",
    "# which is 21.54% larger than the mean PRICE and similar to our initial RMSE, meaning our model is atleast consistant but maybe not accurate"
   ]
  },
  {
   "cell_type": "code",
   "execution_count": null,
   "metadata": {},
   "outputs": [],
   "source": []
  },
  {
   "cell_type": "code",
   "execution_count": null,
   "metadata": {},
   "outputs": [],
   "source": []
  }
 ],
 "metadata": {
  "kernelspec": {
   "display_name": "Python 3",
   "language": "python",
   "name": "python3"
  },
  "language_info": {
   "codemirror_mode": {
    "name": "ipython",
    "version": 3
   },
   "file_extension": ".py",
   "mimetype": "text/x-python",
   "name": "python",
   "nbconvert_exporter": "python",
   "pygments_lexer": "ipython3",
   "version": "3.7.6"
  }
 },
 "nbformat": 4,
 "nbformat_minor": 4
}
